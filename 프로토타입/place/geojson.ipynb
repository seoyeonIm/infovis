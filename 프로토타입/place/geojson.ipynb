{
 "cells": [
  {
   "cell_type": "code",
   "execution_count": 1,
   "metadata": {},
   "outputs": [
    {
     "name": "stdout",
     "output_type": "stream",
     "text": [
      "Collecting pyKML\n",
      "  Downloading pykml-0.2.0-py3-none-any.whl.metadata (1.2 kB)\n",
      "Collecting geojson\n",
      "  Downloading geojson-3.1.0-py3-none-any.whl.metadata (16 kB)\n",
      "Collecting lxml>=3.3.6 (from pyKML)\n",
      "  Downloading lxml-5.3.0-cp311-cp311-win_amd64.whl.metadata (3.9 kB)\n",
      "Downloading pykml-0.2.0-py3-none-any.whl (41 kB)\n",
      "   ---------------------------------------- 0.0/41.1 kB ? eta -:--:--\n",
      "   ---------------------------------------- 41.1/41.1 kB 2.1 MB/s eta 0:00:00\n",
      "Downloading geojson-3.1.0-py3-none-any.whl (15 kB)\n",
      "Downloading lxml-5.3.0-cp311-cp311-win_amd64.whl (3.8 MB)\n",
      "   ---------------------------------------- 0.0/3.8 MB ? eta -:--:--\n",
      "   - -------------------------------------- 0.1/3.8 MB 2.4 MB/s eta 0:00:02\n",
      "   - -------------------------------------- 0.2/3.8 MB 1.9 MB/s eta 0:00:02\n",
      "   -- ------------------------------------- 0.2/3.8 MB 1.6 MB/s eta 0:00:03\n",
      "   --- ------------------------------------ 0.3/3.8 MB 1.8 MB/s eta 0:00:02\n",
      "   ---- ----------------------------------- 0.4/3.8 MB 1.9 MB/s eta 0:00:02\n",
      "   ------ --------------------------------- 0.6/3.8 MB 2.3 MB/s eta 0:00:02\n",
      "   ---------- ----------------------------- 1.0/3.8 MB 3.1 MB/s eta 0:00:01\n",
      "   ------------------------- -------------- 2.4/3.8 MB 6.8 MB/s eta 0:00:01\n",
      "   ---------------------------------------  3.8/3.8 MB 9.3 MB/s eta 0:00:01\n",
      "   ---------------------------------------- 3.8/3.8 MB 9.0 MB/s eta 0:00:00\n",
      "Installing collected packages: lxml, geojson, pyKML\n",
      "Successfully installed geojson-3.1.0 lxml-5.3.0 pyKML-0.2.0\n"
     ]
    },
    {
     "name": "stderr",
     "output_type": "stream",
     "text": [
      "\n",
      "[notice] A new release of pip is available: 24.1 -> 24.3.1\n",
      "[notice] To update, run: C:\\Users\\admin\\AppData\\Local\\Microsoft\\WindowsApps\\PythonSoftwareFoundation.Python.3.11_qbz5n2kfra8p0\\python.exe -m pip install --upgrade pip\n"
     ]
    }
   ],
   "source": [
    "!pip install pyKML geojson"
   ]
  },
  {
   "cell_type": "code",
   "execution_count": 4,
   "metadata": {},
   "outputs": [
    {
     "ename": "SyntaxError",
     "evalue": "(unicode error) 'unicodeescape' codec can't decode bytes in position 2-3: truncated \\UXXXXXXXX escape (1514093441.py, line 6)",
     "output_type": "error",
     "traceback": [
      "\u001b[1;36m  Cell \u001b[1;32mIn[4], line 6\u001b[1;36m\u001b[0m\n\u001b[1;33m    kml_file = 'C:\\Users\\admin\\Desktop\\gephi\\place\\kml.kml'\u001b[0m\n\u001b[1;37m                                                           ^\u001b[0m\n\u001b[1;31mSyntaxError\u001b[0m\u001b[1;31m:\u001b[0m (unicode error) 'unicodeescape' codec can't decode bytes in position 2-3: truncated \\UXXXXXXXX escape\n"
     ]
    }
   ],
   "source": [
    "from pykml import parser\n",
    "from geojson import Feature, Point, FeatureCollection\n",
    "import json\n",
    "\n",
    "# KML 파일 경로\n",
    "kml_file = 'C:\\Users\\admin\\Desktop\\gephi\\place\\kml.kml'\n",
    "geojson_file = 'place.geojson'\n",
    "\n",
    "# KML 파일 파싱\n",
    "with open(kml_file, 'r') as file:\n",
    "    root = parser.parse(file).getroot()\n",
    "\n",
    "# GeoJSON 변환\n",
    "features = []\n",
    "for placemark in root.Document.Folder.Placemark:\n",
    "    name = placemark.name.text\n",
    "    coords = placemark.Point.coordinates.text.strip().split(',')\n",
    "    point = Point((float(coords[0]), float(coords[1])))\n",
    "    features.append(Feature(geometry=point, properties={\"name\": name}))\n",
    "\n",
    "# GeoJSON 파일 저장\n",
    "feature_collection = FeatureCollection(features)\n",
    "with open(geojson_file, 'w') as f:\n",
    "    json.dump(feature_collection, f)\n",
    "\n",
    "print(f\"GeoJSON 파일로 저장 완료: {geojson_file}\")\n"
   ]
  }
 ],
 "metadata": {
  "kernelspec": {
   "display_name": "Python 3",
   "language": "python",
   "name": "python3"
  },
  "language_info": {
   "codemirror_mode": {
    "name": "ipython",
    "version": 3
   },
   "file_extension": ".py",
   "mimetype": "text/x-python",
   "name": "python",
   "nbconvert_exporter": "python",
   "pygments_lexer": "ipython3",
   "version": "3.11.9"
  }
 },
 "nbformat": 4,
 "nbformat_minor": 2
}
